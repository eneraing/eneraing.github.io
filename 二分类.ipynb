{
 "cells": [
  {
   "cell_type": "code",
   "execution_count": 3,
   "id": "4e6cd1a6",
   "metadata": {},
   "outputs": [],
   "source": [
    "import numpy as np\n",
    "import pandas as pd\n",
    "import matplotlib.pyplot as plt"
   ]
  },
  {
   "cell_type": "code",
   "execution_count": 4,
   "id": "33f709be",
   "metadata": {},
   "outputs": [
    {
     "data": {
      "text/html": [
       "<div>\n",
       "<style scoped>\n",
       "    .dataframe tbody tr th:only-of-type {\n",
       "        vertical-align: middle;\n",
       "    }\n",
       "\n",
       "    .dataframe tbody tr th {\n",
       "        vertical-align: top;\n",
       "    }\n",
       "\n",
       "    .dataframe thead th {\n",
       "        text-align: right;\n",
       "    }\n",
       "</style>\n",
       "<table border=\"1\" class=\"dataframe\">\n",
       "  <thead>\n",
       "    <tr style=\"text-align: right;\">\n",
       "      <th></th>\n",
       "      <th>Exam 1</th>\n",
       "      <th>Exam 2</th>\n",
       "      <th>Accepted</th>\n",
       "    </tr>\n",
       "  </thead>\n",
       "  <tbody>\n",
       "    <tr>\n",
       "      <th>0</th>\n",
       "      <td>34.623660</td>\n",
       "      <td>78.024693</td>\n",
       "      <td>0</td>\n",
       "    </tr>\n",
       "    <tr>\n",
       "      <th>1</th>\n",
       "      <td>30.286711</td>\n",
       "      <td>43.894998</td>\n",
       "      <td>0</td>\n",
       "    </tr>\n",
       "    <tr>\n",
       "      <th>2</th>\n",
       "      <td>35.847409</td>\n",
       "      <td>72.902198</td>\n",
       "      <td>0</td>\n",
       "    </tr>\n",
       "    <tr>\n",
       "      <th>3</th>\n",
       "      <td>60.182599</td>\n",
       "      <td>86.308552</td>\n",
       "      <td>1</td>\n",
       "    </tr>\n",
       "    <tr>\n",
       "      <th>4</th>\n",
       "      <td>79.032736</td>\n",
       "      <td>75.344376</td>\n",
       "      <td>1</td>\n",
       "    </tr>\n",
       "  </tbody>\n",
       "</table>\n",
       "</div>"
      ],
      "text/plain": [
       "      Exam 1     Exam 2  Accepted\n",
       "0  34.623660  78.024693         0\n",
       "1  30.286711  43.894998         0\n",
       "2  35.847409  72.902198         0\n",
       "3  60.182599  86.308552         1\n",
       "4  79.032736  75.344376         1"
      ]
     },
     "execution_count": 4,
     "metadata": {},
     "output_type": "execute_result"
    }
   ],
   "source": [
    "path='ex2data1.txt'\n",
    "data=pd.read_csv(path,names=['Exam 1','Exam 2','Accepted'])\n",
    "data.head()"
   ]
  },
  {
   "cell_type": "code",
   "execution_count": 5,
   "id": "00a804c3",
   "metadata": {},
   "outputs": [
    {
     "data": {
      "image/png": "[encoded data removed]",
      "text/plain": [
       "<Figure size 640x480 with 1 Axes>"
      ]
     },
     "metadata": {},
     "output_type": "display_data"
    }
   ],
   "source": [
    "fig,ax=plt.subplots()\n",
    "ax.scatter(data[data['Accepted']==0]['Exam 1'],data[data['Accepted']==0]['Exam 2'],c='r',marker='x',label='y=0')\n",
    "ax.scatter(data[data['Accepted']==1]['Exam 1'],data[data['Accepted']==1]['Exam 2'],c='b',marker='o',label='y=1')\n",
    "ax.legend()\n",
    "\n",
    "ax.set(xlabel='exam1',\n",
    "      ylabel='exam2')\n",
    "plt.show()"
   ]
  },
  {
   "cell_type": "markdown",
   "id": "3ae36749",
   "metadata": {},
   "source": [
    "构造数据集"
   ]
  },
  {
   "cell_type": "code",
   "execution_count": 6,
   "id": "a731692f",
   "metadata": {},
   "outputs": [],
   "source": [
    "def get_Xy(data):\n",
    "    data.insert(0,'ones',1)\n",
    "    X_=data.iloc[:,0:-1]\n",
    "    X=X_.values\n",
    "    \n",
    "    y_=data.iloc[:,-1]\n",
    "    y=y_.values.reshape(len(y_),1)\n",
    "    \n",
    "    return X,y"
   ]
  },
  {
   "cell_type": "code",
   "execution_count": 7,
   "id": "7d5bb992",
   "metadata": {},
   "outputs": [],
   "source": [
    "X,y=get_Xy(data)"
   ]
  },
  {
   "cell_type": "code",
   "execution_count": 8,
   "id": "39f85fa8",
   "metadata": {},
   "outputs": [
    {
     "data": {
      "text/plain": [
       "(100, 3)"
      ]
     },
     "execution_count": 8,
     "metadata": {},
     "output_type": "execute_result"
    }
   ],
   "source": [
    "X.shape"
   ]
  },
  {
   "cell_type": "code",
   "execution_count": 9,
   "id": "88795361",
   "metadata": {},
   "outputs": [
    {
     "data": {
      "text/plain": [
       "(100, 1)"
      ]
     },
     "execution_count": 9,
     "metadata": {},
     "output_type": "execute_result"
    }
   ],
   "source": [
    "y.shape"
   ]
  },
  {
   "cell_type": "code",
   "execution_count": 10,
   "id": "2c11d9b3",
   "metadata": {},
   "outputs": [],
   "source": [
    "def sigmoid(z):\n",
    "    return 1/(1+np.exp(-z))"
   ]
  },
  {
   "cell_type": "code",
   "execution_count": 11,
   "id": "8a1f8f00",
   "metadata": {},
   "outputs": [],
   "source": [
    "def costFunction(X,y,theta):\n",
    "    A=sigmoid(X@theta)\n",
    "    first=-y*np.log(A)\n",
    "    second=-(1-y)*np.log(1-A)\n",
    "    \n",
    "    return np.sum(first+second)/len(X)"
   ]
  },
  {
   "cell_type": "code",
   "execution_count": 12,
   "id": "c20e94d6",
   "metadata": {},
   "outputs": [
    {
     "data": {
      "text/plain": [
       "(3, 1)"
      ]
     },
     "execution_count": 12,
     "metadata": {},
     "output_type": "execute_result"
    }
   ],
   "source": [
    "theta=np.zeros((3,1))\n",
    "theta.shape"
   ]
  },
  {
   "cell_type": "code",
   "execution_count": 13,
   "id": "a2bdfbf9",
   "metadata": {},
   "outputs": [
    {
     "name": "stdout",
     "output_type": "stream",
     "text": [
      "0.6931471805599453\n"
     ]
    }
   ],
   "source": [
    "cost_init=costFunction(X,y,theta)\n",
    "print(cost_init)"
   ]
  },
  {
   "cell_type": "code",
   "execution_count": 14,
   "id": "2aed9ec1",
   "metadata": {},
   "outputs": [],
   "source": [
    "def gradientDescent(X,y,theta,iters,alpha):\n",
    "    m=len(X)\n",
    "    costs = []\n",
    "    \n",
    "    for i in range(iters):\n",
    "        A=sigmoid(X@theta)\n",
    "        theta = theta - (alpha/m)*X.T@(A-y)\n",
    "        cost = costFunction(X,y,theta)\n",
    "        costs.append(cost)\n",
    "        \n",
    "        if i % 10000 == 0:\n",
    "            print(cost)\n",
    "            \n",
    "    return costs,theta"
   ]
  },
  {
   "cell_type": "code",
   "execution_count": 15,
   "id": "b12cbd4e",
   "metadata": {},
   "outputs": [],
   "source": [
    "alpha=0.004\n",
    "iters=200000"
   ]
  },
  {
   "cell_type": "code",
   "execution_count": 16,
   "id": "9ece5e62",
   "metadata": {},
   "outputs": [
    {
     "name": "stdout",
     "output_type": "stream",
     "text": [
      "1.9886538578930084\n",
      "2.706676380747814\n",
      "5.159653459570274\n",
      "1.3288041261254444\n",
      "1.652586574603404\n",
      "3.7379122586603324\n",
      "1.0707715728766347\n",
      "0.30085687331363575\n",
      "0.5849740396161554\n",
      "0.8746137092710174\n",
      "1.1026863099626751\n",
      "0.9506321903863946\n",
      "0.8128522177396158\n",
      "0.6927778713327548\n",
      "0.5900152379936091\n",
      "0.5025762118842436\n",
      "0.42890975437652046\n",
      "0.36834275550087214\n",
      "0.32053967884088685\n",
      "0.28460229018559496\n"
     ]
    }
   ],
   "source": [
    "costs,theta_final=gradientDescent(X,y,theta,iters,alpha)"
   ]
  },
  {
   "cell_type": "code",
   "execution_count": 17,
   "id": "34495a89",
   "metadata": {},
   "outputs": [
    {
     "data": {
      "text/plain": [
       "array([[-23.77314018],\n",
       "       [  0.18687162],\n",
       "       [  0.18041411]])"
      ]
     },
     "execution_count": 17,
     "metadata": {},
     "output_type": "execute_result"
    }
   ],
   "source": [
    "theta_final"
   ]
  },
  {
   "cell_type": "code",
   "execution_count": 20,
   "id": "557a1420",
   "metadata": {},
   "outputs": [],
   "source": [
    "def predict(X,theta):\n",
    "    prob=sigmoid(X@theta)\n",
    "    return [1 if x>=0.5 else 0 for x in prob]"
   ]
  },
  {
   "cell_type": "code",
   "execution_count": 22,
   "id": "9a2d9f89",
   "metadata": {},
   "outputs": [
    {
     "name": "stdout",
     "output_type": "stream",
     "text": [
      "0.86\n"
     ]
    }
   ],
   "source": [
    "y_=np.array(predict(X,theta_final))\n",
    "y_pre=y_.reshape(len(y_),1)\n",
    "\n",
    "acc=np.mean(y_pre==y)\n",
    "\n",
    "print(acc)"
   ]
  },
  {
   "cell_type": "code",
   "execution_count": 23,
   "id": "513a2b37",
   "metadata": {},
   "outputs": [],
   "source": [
    "coef1=-theta_final[0,0]/theta_final[2,0]\n",
    "coef2=-theta_final[1,0]/theta_final[2,0]"
   ]
  },
  {
   "cell_type": "code",
   "execution_count": 25,
   "id": "107111ff",
   "metadata": {},
   "outputs": [
    {
     "data": {
      "image/png": "[encoded data removed]",
      "text/plain": [
       "<Figure size 640x480 with 1 Axes>"
      ]
     },
     "metadata": {},
     "output_type": "display_data"
    }
   ],
   "source": [
    "x=np.linspace(20,100,100)\n",
    "f=coef1+coef2*x\n",
    "\n",
    "fig,ax=plt.subplots()\n",
    "ax.scatter(data[data['Accepted']==0]['Exam 1'],data[data['Accepted']==0]['Exam 2'],c='r',marker='x',label='y=0')\n",
    "ax.scatter(data[data['Accepted']==1]['Exam 1'],data[data['Accepted']==1]['Exam 2'],c='b',marker='o',label='y=1')\n",
    "ax.legend()\n",
    "\n",
    "ax.set(xlabel='exam1',\n",
    "      ylabel='exam2')\n",
    "\n",
    "ax.plot(x,f,c='g')\n",
    "plt.show()"
   ]
  },
  {
   "cell_type": "code",
   "execution_count": null,
   "id": "1b9766b8",
   "metadata": {},
   "outputs": [],
   "source": []
  }
 ],
 "metadata": {
  "kernelspec": {
   "display_name": "Python 3 (ipykernel)",
   "language": "python",
   "name": "python3"
  },
  "language_info": {
   "codemirror_mode": {
    "name": "ipython",
    "version": 3
   },
   "file_extension": ".py",
   "mimetype": "text/x-python",
   "name": "python",
   "nbconvert_exporter": "python",
   "pygments_lexer": "ipython3",
   "version": "3.9.13"
  }
 },
 "nbformat": 4,
 "nbformat_minor": 5
}
